{
 "cells": [
  {
   "cell_type": "code",
   "execution_count": null,
   "id": "01435785-9801-4990-b5a5-b9a7e9e62576",
   "metadata": {},
   "outputs": [],
   "source": [
    " Q1. who developed python programming language?\n",
    "\n",
    "Ans: Python was created by Guido van Rossum, a Dutch programmer, in the late 1980s. Guido started working on Python in December 1989, \n",
    "and the first version of Python, version 0.9.0, was released in February 1991. Since then, \n",
    "Python has been continuously developed by a community of volunteers and is now one of the most popular programming languages in the world.\n"
   ]
  },
  {
   "cell_type": "code",
   "execution_count": null,
   "id": "962b7bc0-6c06-47eb-905d-3b87fbd389b3",
   "metadata": {},
   "outputs": [],
   "source": [
    "Q2. which type of Programming does python support?\n",
    "\n",
    "Ans: Python is a high-level, interpreted programming language that supports multiple programming paradigms, \n",
    "including procedural, object-oriented, and functional programming."
   ]
  },
  {
   "cell_type": "code",
   "execution_count": null,
   "id": "66d73265-7596-4ef7-a28f-bca941cb01e5",
   "metadata": {},
   "outputs": [],
   "source": [
    " Q3. is python case sensitive when dealing with identifiers?\n",
    "Ans: Yes, Python is a case-sensitive programming language when dealing with identifiers such as variables, function names, and class names.\n",
    "This means that identifiers with different letter case, such as \"variable\", \"Variable\", and \"VARIABLE\" are treated as different names in Python.\n",
    "For example- \n",
    "variable = 42\n",
    "Variable = \"hello world\"\n"
   ]
  },
  {
   "cell_type": "code",
   "execution_count": null,
   "id": "f5185b31-4cf1-4b12-8259-212313782d40",
   "metadata": {},
   "outputs": [],
   "source": [
    " Q4. what is the correct extension of the Python file?\n",
    "Ans: In Python, the standard file extension for Python source code files is \".py\""
   ]
  },
  {
   "cell_type": "code",
   "execution_count": null,
   "id": "672a197a-6452-4308-92d3-99ae07ddc53d",
   "metadata": {},
   "outputs": [],
   "source": [
    "Q5. is python code compiled or interpreted?\n",
    "Ans: Python is an interpreted programming language, which means that the source code is executed directly by an interpreter, \n",
    "without being compiled into machine code beforehand."
   ]
  },
  {
   "cell_type": "code",
   "execution_count": null,
   "id": "4f205084-810e-424e-8f68-3b37a91f0bbb",
   "metadata": {},
   "outputs": [],
   "source": [
    "Q6. Name a few blocks of code used to define in Python language?\n",
    "Ans: In Python, there are several types of code blocks that are used to group together related statements.\n",
    "Here are some of the most common blocks of code in Python:\n",
    "\n",
    "1. Function definition block: This is a block of code that defines a function using the def keyword, \n",
    "followed by the function name and its parameters. The statements within the function definition block are executed when the function is called.\n",
    "\n",
    "2. Class definition block: This is a block of code that defines a class using the class keyword, \n",
    "followed by the class name and its attributes and methods. The statements within the class definition block define the behavior of the class.\n",
    "\n",
    "3. Conditional block: This is a block of code that contains statements that are executed only if a certain condition is true. \n",
    "In Python, the if statement is used to define a conditional block.\n",
    "\n",
    "4. Loop block: This is a block of code that contains statements that are executed repeatedly until a certain condition is met. In Python, \n",
    "the for and while statements are used to define loop blocks.\n",
    "\n",
    "5. Exception handling block: This is a block of code that is used to handle exceptions that may occur during the execution of a program. \n",
    "In Python, the try, except, else, and finally keywords are used to define an exception handling block."
   ]
  },
  {
   "cell_type": "code",
   "execution_count": null,
   "id": "7c3731b1-ea65-4d98-a9ec-39b2a6ea2d4c",
   "metadata": {},
   "outputs": [],
   "source": [
    "Q7. State a character used to give single-line comments in Python?\n",
    "Ans: In Python, the hash symbol (#) is used to start a single-line comment. \n",
    "Anything that follows the hash symbol on the same line is considered a comment and is ignored by the Python interpreter.\n",
    "here is an example of a single-line comment in Python:\n",
    "# This is a single-line comment in Python.\n"
   ]
  },
  {
   "cell_type": "code",
   "execution_count": null,
   "id": "006e9816-22f8-4674-93f0-98bb10c558c7",
   "metadata": {},
   "outputs": [],
   "source": [
    "Q8. Mention functions which can helps us to find the version of Python that we are currently working on?\n",
    "Ans: There are several functions and modules in Python that can be used to find the version of Python that you are currently working on. \n",
    "Here are a few examples:\n",
    "\n",
    "sys module: The sys module provides access to some variables and functions related to the Python interpreter. \n",
    "The sys.version attribute returns the version of Python that is currently running. \n",
    "we can use it like this:\n",
    "import sys\n",
    "print(sys.version)\n",
    "\n",
    "platform module: The platform module provides an interface to access information about the platform where Python is running, \n",
    "including the version of Python.\n",
    "The platform.python_version() function returns the version of Python as a string. You can use it like this:\n",
    "import platform\n",
    "print(platform.python_version())\n",
    "\n",
    "Command-line argument: You can also use the command line to find the version of Python that is installed on your system. \n",
    "Simply open a command prompt or terminal window and type python --version or python -V. \n",
    "This will print the version of Python that is currently installed.\n"
   ]
  },
  {
   "cell_type": "code",
   "execution_count": null,
   "id": "913946aa-b356-43ee-bc38-953050a1b81b",
   "metadata": {},
   "outputs": [],
   "source": [
    "Q9. Python supports the creation of anonymous functions at runtime, using a constructed called____________?\n",
    "Ans: Python supports the creation of anonymous functions at runtime, using a construct called \"lambda\" functions. "
   ]
  },
  {
   "cell_type": "code",
   "execution_count": null,
   "id": "b8fcf286-459e-490a-af16-43497ef46d74",
   "metadata": {},
   "outputs": [],
   "source": [
    "Q10. what does pip stand for python?\n",
    "Ans: PIP stands for \"Pip Installs Packages\" (or \"Pip Installs Python\"). It is a package management system used to install \n",
    "and manage software packages written in Python."
   ]
  },
  {
   "cell_type": "code",
   "execution_count": null,
   "id": "089201d2-71fc-4c0d-99a0-32e004cfca76",
   "metadata": {},
   "outputs": [],
   "source": [
    "Q11. Mention a few built-in functions in python?\n",
    "Ans. Python provides a rich set of built-in functions that can be used in our programs without the need for import statements\n",
    "or external libraries. Here are a few examples of built-in functions in Python:\n",
    "\n",
    "1. print() - used to print the specified message or variable values to the console or a file\n",
    "2. len() - used to return the length (number of elements) of an object such as a string, list, or tuple\n",
    "3. type() - used to return the type of an object, such as int, str, or list\n",
    "4. range() - used to generate a sequence of numbers, which can be used to iterate over a loop or to create lists\n",
    "5. input() - used to prompt the user to enter data from the console\n",
    "6. int() - used to convert a value to an integer type\n",
    "7. str() - used to convert a value to a string type\n",
    "8. float() - used to convert a value to a floating-point type\n",
    "9. list() - used to create a new list object from an iterable\n",
    "10. dict() - used to create a new dictionary object from a sequence of key-value pairs"
   ]
  },
  {
   "cell_type": "code",
   "execution_count": null,
   "id": "54f9c8c0-0525-4b1c-8a63-138c69148e94",
   "metadata": {},
   "outputs": [],
   "source": [
    "Q12. What is the maximum possible length of an identifier in Python?\n",
    "Ans. In Python, the maximum length of an identifier is not explicitly defined by the language specification. However, \n",
    "there are practical limitations to consider.\n",
    "\n",
    "According to the Python style guide (PEP 8), identifiers should be \"reasonably\" short. \n",
    "Although there is no strict character limit, PEP 8 recommends limiting identifiers to a maximum of 79 characters \n",
    "for readability."
   ]
  },
  {
   "cell_type": "code",
   "execution_count": null,
   "id": "334abf84-044d-4fec-98e7-29bdd9afc07e",
   "metadata": {},
   "outputs": [],
   "source": [
    "Q13. what are the benefits of using python?\n",
    "Ans. Here are some Benefits of using python :\n",
    "   \n",
    "    Readability and simplicity: Python emphasizes code readability and uses a clean and straightforward syntax.\n",
    "    Its indentation-based block structure enforces consistent and organized code, making it easier to understand and maintain. \n",
    "    This feature is particularly beneficial for beginners and collaborative projects.\n",
    "\n",
    "    Large and active community: Python has a vast and active community of developers, \n",
    "    which means you can find ample resources, libraries, frameworks, and documentation to support your development needs. \n",
    "    The community-driven nature of Python ensures continuous improvement and innovation.\n",
    "\n",
    "    Extensive standard library: Python comes with a rich standard library that provides a wide range of modules and functions for various tasks. \n",
    "    It includes modules for file handling, networking, web development, data manipulation, and more. \n",
    "    Leveraging the standard library saves development time and effort.\n",
    "    "
   ]
  },
  {
   "cell_type": "code",
   "execution_count": null,
   "id": "c39ddf4e-e527-4997-bbaf-c86ce2c66fdc",
   "metadata": {},
   "outputs": [],
   "source": [
    "Q.14. How is memory managed in Python?\n",
    "Ans. In Python, memory management is primarily handled by a combination of techniques: \n",
    "    reference counting and a garbage collector.\n",
    "    \n",
    "    Reference counting: Python uses a technique called reference counting to manage memory. \n",
    "    Each object in Python has a reference count, which is the number of references pointing to that object.\n",
    "    When an object's reference count reaches zero, meaning no references are pointing to it, \n",
    "    it is considered no longer in use and can be safely deallocated.\n",
    "    \n",
    "    Garbage collector: Python also employs a garbage collector to handle circular references and manage memory resources more effectively. \n",
    "    The garbage collector is responsible for identifying and \n",
    "    collecting objects that are no longer reachable by any part of the program."
   ]
  },
  {
   "cell_type": "code",
   "execution_count": null,
   "id": "106a61ee-ef56-43c6-8e1f-0b2f719122d1",
   "metadata": {},
   "outputs": [],
   "source": [
    "Q.15 Is indentation required in python?\n",
    "Ans. Yes, indentation is required in Python. Unlike many other programming languages that use braces or \n",
    "explicit keywords to define blocks of code, Python uses indentation to indicate the structure \n",
    "and nesting of code blocks."
   ]
  }
 ],
 "metadata": {
  "kernelspec": {
   "display_name": "Python 3 (ipykernel)",
   "language": "python",
   "name": "python3"
  },
  "language_info": {
   "codemirror_mode": {
    "name": "ipython",
    "version": 3
   },
   "file_extension": ".py",
   "mimetype": "text/x-python",
   "name": "python",
   "nbconvert_exporter": "python",
   "pygments_lexer": "ipython3",
   "version": "3.10.8"
  }
 },
 "nbformat": 4,
 "nbformat_minor": 5
}
